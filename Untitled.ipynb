{
 "cells": [
  {
   "cell_type": "code",
   "execution_count": 1,
   "id": "3edfd05f",
   "metadata": {},
   "outputs": [
    {
     "ename": "ModuleNotFoundError",
     "evalue": "No module named 'ocr'",
     "output_type": "error",
     "traceback": [
      "\u001b[0;31m---------------------------------------------------------------------------\u001b[0m",
      "\u001b[0;31mModuleNotFoundError\u001b[0m                       Traceback (most recent call last)",
      "\u001b[0;32m/tmp/ipykernel_32/2598530545.py\u001b[0m in \u001b[0;36m<module>\u001b[0;34m\u001b[0m\n\u001b[1;32m      1\u001b[0m \u001b[0;32mimport\u001b[0m \u001b[0mos\u001b[0m\u001b[0;34m\u001b[0m\u001b[0;34m\u001b[0m\u001b[0m\n\u001b[0;32m----> 2\u001b[0;31m \u001b[0;32mfrom\u001b[0m \u001b[0mocr\u001b[0m \u001b[0;32mimport\u001b[0m \u001b[0mocr\u001b[0m\u001b[0;34m\u001b[0m\u001b[0;34m\u001b[0m\u001b[0m\n\u001b[0m\u001b[1;32m      3\u001b[0m \u001b[0;32mimport\u001b[0m \u001b[0mtime\u001b[0m\u001b[0;34m\u001b[0m\u001b[0;34m\u001b[0m\u001b[0m\n\u001b[1;32m      4\u001b[0m \u001b[0;32mimport\u001b[0m \u001b[0mshutil\u001b[0m\u001b[0;34m\u001b[0m\u001b[0;34m\u001b[0m\u001b[0m\n\u001b[1;32m      5\u001b[0m \u001b[0;32mimport\u001b[0m \u001b[0mnumpy\u001b[0m \u001b[0;32mas\u001b[0m \u001b[0mnp\u001b[0m\u001b[0;34m\u001b[0m\u001b[0;34m\u001b[0m\u001b[0m\n",
      "\u001b[0;31mModuleNotFoundError\u001b[0m: No module named 'ocr'"
     ]
    }
   ],
   "source": [
    "import os\n",
    "from ocr import ocr\n",
    "import time\n",
    "import shutil\n",
    "import numpy as np\n",
    "from PIL import Image\n",
    "from glob import glob\n",
    "\n",
    "\n",
    "def single_pic_proc(image_file):\n",
    "    image = np.array(Image.open(image_file).convert('RGB'))\n",
    "    result, image_framed = ocr(image)\n",
    "    return result,image_framed\n",
    "\n",
    "\n",
    "if __name__ == '__main__':\n",
    "    image_files = glob('./test_images/*.*')\n",
    "    result_dir = './test_result'\n",
    "    if os.path.exists(result_dir):\n",
    "        shutil.rmtree(result_dir)\n",
    "    os.mkdir(result_dir)\n",
    "\n",
    "    for image_file in sorted(image_files):\n",
    "        t = time.time()\n",
    "        result, image_framed = single_pic_proc(image_file)\n",
    "        output_file = os.path.join(result_dir, image_file.split('/')[-1])\n",
    "        txt_file = os.path.join(result_dir, image_file.split('/')[-1].split('.')[0]+'.txt')\n",
    "        print(txt_file)\n",
    "        txt_f = open(txt_file, 'w')\n",
    "        Image.fromarray(image_framed).save(output_file)\n",
    "        print(\"Mission complete, it took {:.3f}s\".format(time.time() - t))\n",
    "        print(\"\\nRecognition Result:\\n\")\n",
    "        for key in result:\n",
    "            print(result[key][1])\n",
    "            txt_f.write(result[key][1]+'\\n')\n",
    "        txt_f.close()"
   ]
  },
  {
   "cell_type": "code",
   "execution_count": null,
   "id": "d4b2baf4",
   "metadata": {},
   "outputs": [],
   "source": []
  }
 ],
 "metadata": {
  "kernelspec": {
   "display_name": "Python3.7",
   "language": "python",
   "name": "base"
  },
  "language_info": {
   "codemirror_mode": {
    "name": "ipython",
    "version": 3
   },
   "file_extension": ".py",
   "mimetype": "text/x-python",
   "name": "python",
   "nbconvert_exporter": "python",
   "pygments_lexer": "ipython3",
   "version": "3.7.7"
  }
 },
 "nbformat": 4,
 "nbformat_minor": 5
}
